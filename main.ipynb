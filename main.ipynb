{
 "cells": [
  {
   "cell_type": "code",
   "execution_count": 1,
   "metadata": {},
   "outputs": [],
   "source": [
    "import numpy as np\n",
    "import cv2\n",
    "import matplotlib.pyplot as plt\n",
    "import numpy as np\n",
    "from scipy.interpolate import interp2d, RegularGridInterpolator\n",
    "from scipy.ndimage import map_coordinates\n",
    "import json\n",
    "import pickle\n",
    "import os"
   ]
  },
  {
   "cell_type": "code",
   "execution_count": 4,
   "metadata": {},
   "outputs": [],
   "source": [
    "camCalibData = {}\n",
    "for i in range(10):\n",
    "    camCalibData[i] = json.load(open('kcalibration_171204_pose1.json'))['sensors'][i]"
   ]
  },
  {
   "cell_type": "code",
   "execution_count": 5,
   "metadata": {},
   "outputs": [],
   "source": [
    "aligned = cv2.imread('segmentation.png')/255.\n",
    "with open('dep.pickle', 'rb') as handle:\n",
    "    dep = pickle.load(handle)\n",
    "expected = cv2.imread('expected.png')/255."
   ]
  },
  {
   "cell_type": "code",
   "execution_count": 6,
   "metadata": {},
   "outputs": [
    {
     "name": "stdout",
     "output_type": "stream",
     "text": [
      "trans_:  [ 1.46152057 -1.19923317  0.97934372]\n"
     ]
    }
   ],
   "source": [
    "cam_id1 = 0\n",
    "cam_id2 = 5\n",
    "FX_DEPTH = camCalibData[cam_id1]['K_depth'][0][0]\n",
    "FY_DEPTH = camCalibData[cam_id1]['K_depth'][1][1]\n",
    "CX_DEPTH = camCalibData[cam_id1]['K_depth'][0][2]\n",
    "CY_DEPTH = camCalibData[cam_id1]['K_depth'][1][2]\n",
    "\n",
    "# compute point cloud:\n",
    "pcd = []\n",
    "dict_pt2col = {}\n",
    "height, width = dep.shape\n",
    "cnt = 0\n",
    "for i in range(height):\n",
    "   for j in range(width):\n",
    "       z = dep[i][j]\n",
    "       x = (j - CX_DEPTH) * z / FX_DEPTH\n",
    "       y = (i - CY_DEPTH) * z / FY_DEPTH\n",
    "       pcd.append([x, y, z])\n",
    "       dict_pt2col[cnt] = aligned[i][j]\n",
    "       cnt += 1\n",
    "       \n",
    "rot = np.array(camCalibData[cam_id1]['M_depth'])[:3,:3]\n",
    "trans = np.array(camCalibData[cam_id1]['M_depth'])[:3, 3]\n",
    "pw = rot.T@(np.array(pcd).T - np.repeat(trans.reshape(-1,1), len(pcd), axis=1))\n",
    "\n",
    "rot_ = np.array(camCalibData[cam_id2]['M_world2sensor'])[:3,:3]\n",
    "trans_ = np.array(camCalibData[cam_id2]['M_world2sensor'])[:3, 3]\n",
    "print(\"trans_: \", trans_)\n",
    "\n",
    "# If I set trans_ to the below, it seems to work for this camera:\n",
    "trans_ = np.array([1496,  -1050.01476608,  712.7038947189822])\n",
    "\n",
    "points_in_new_sensor = rot_@ pw + np.repeat(trans_.reshape(-1,1), len(pcd), axis=1)\n",
    "points_in_image_plane_new_sensor = (np.array(camCalibData[cam_id2]['K_depth'])@points_in_new_sensor).T\n",
    "\n",
    "points_in_image_plane_new_sensor[:,0] = np.divide(points_in_image_plane_new_sensor[:,0], points_in_image_plane_new_sensor[:,2], out=np.zeros_like(points_in_image_plane_new_sensor[:,0]), where=points_in_image_plane_new_sensor[:,2]!=0)\n",
    "points_in_image_plane_new_sensor[:,1] = np.divide(points_in_image_plane_new_sensor[:,1], points_in_image_plane_new_sensor[:,2], out=np.zeros_like(points_in_image_plane_new_sensor[:,1]), where=points_in_image_plane_new_sensor[:,2]!=0)\n",
    "\n",
    "output_img = np.zeros_like(aligned)\n",
    "cnt = 0\n",
    "for i in range(points_in_image_plane_new_sensor.shape[0]):\n",
    "   x = points_in_image_plane_new_sensor[i, 0]\n",
    "   y = points_in_image_plane_new_sensor[i, 1]\n",
    "   if x >= 0 and y >= 0 and y < 424 and x < 512:\n",
    "      output_img[int(y)][int(x)] = dict_pt2col[i]"
   ]
  },
  {
   "cell_type": "code",
   "execution_count": 7,
   "metadata": {},
   "outputs": [
    {
     "data": {
      "text/plain": [
       "<matplotlib.image.AxesImage at 0x7fc4212ef710>"
      ]
     },
     "execution_count": 7,
     "metadata": {},
     "output_type": "execute_result"
    },
    {
     "data": {
      "image/png": "[encoded data removed]",
      "text/plain": [
       "<Figure size 432x288 with 1 Axes>"
      ]
     },
     "metadata": {
      "needs_background": "light"
     },
     "output_type": "display_data"
    }
   ],
   "source": [
    "# Noisy projection of segmentation from one camera to another camera\n",
    "plt.imshow(cv2.flip(cv2.flip(output_img, 1), 0))"
   ]
  },
  {
   "cell_type": "code",
   "execution_count": 8,
   "metadata": {},
   "outputs": [
    {
     "data": {
      "text/plain": [
       "<matplotlib.image.AxesImage at 0x7fc421366c88>"
      ]
     },
     "execution_count": 8,
     "metadata": {},
     "output_type": "execute_result"
    },
    {
     "data": {
      "image/png": "[encoded data removed]",
      "text/plain": [
       "<Figure size 432x288 with 1 Axes>"
      ]
     },
     "metadata": {
      "needs_background": "light"
     },
     "output_type": "display_data"
    }
   ],
   "source": [
    "# This is based on actual segmentation from a different view image\n",
    "plt.imshow(expected)"
   ]
  },
  {
   "cell_type": "code",
   "execution_count": null,
   "metadata": {},
   "outputs": [],
   "source": []
  }
 ],
 "metadata": {
  "kernelspec": {
   "display_name": "Python 3.6.13 ('cv22')",
   "language": "python",
   "name": "python3"
  },
  "language_info": {
   "codemirror_mode": {
    "name": "ipython",
    "version": 3
   },
   "file_extension": ".py",
   "mimetype": "text/x-python",
   "name": "python",
   "nbconvert_exporter": "python",
   "pygments_lexer": "ipython3",
   "version": "3.6.13"
  },
  "orig_nbformat": 4,
  "vscode": {
   "interpreter": {
    "hash": "5487b625e6317c70d0369c942b906beb8d281fd51384f8092207b1d55412737e"
   }
  }
 },
 "nbformat": 4,
 "nbformat_minor": 2
}
